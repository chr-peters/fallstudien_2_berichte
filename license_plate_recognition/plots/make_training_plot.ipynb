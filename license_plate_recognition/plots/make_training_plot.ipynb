{
 "cells": [
  {
   "cell_type": "code",
   "execution_count": null,
   "id": "plastic-nomination",
   "metadata": {},
   "outputs": [],
   "source": [
    "import pandas as pd\n",
    "import matplotlib.pyplot as plt"
   ]
  },
  {
   "cell_type": "code",
   "execution_count": null,
   "id": "conventional-theology",
   "metadata": {},
   "outputs": [],
   "source": [
    "training_df = pd.read_csv(\"training.csv\")\n",
    "training_df"
   ]
  },
  {
   "cell_type": "code",
   "execution_count": null,
   "id": "crude-forwarding",
   "metadata": {},
   "outputs": [],
   "source": [
    "validation_df = pd.read_csv(\"validation.csv\")\n",
    "validation_df"
   ]
  },
  {
   "cell_type": "code",
   "execution_count": null,
   "id": "durable-singapore",
   "metadata": {},
   "outputs": [],
   "source": [
    "fig, ax = plt.subplots()\n",
    "ax.plot(training_df[\"Step\"]+1, training_df[\"Value\"], label=\"training\")\n",
    "ax.plot(validation_df[\"Step\"]+1, validation_df[\"Value\"], label=\"validation\")\n",
    "\n",
    "ax.set_xticks(validation_df[\"Step\"]+1)\n",
    "\n",
    "ax.set_xlabel(\"Epoch\")\n",
    "ax.set_ylabel(\"Loss\")\n",
    "\n",
    "ax.legend()\n",
    "fig.tight_layout()\n",
    "\n",
    "fig.savefig(\"training_plot.pdf\")"
   ]
  }
 ],
 "metadata": {
  "kernelspec": {
   "display_name": "Python 3",
   "language": "python",
   "name": "python3"
  },
  "language_info": {
   "codemirror_mode": {
    "name": "ipython",
    "version": 3
   },
   "file_extension": ".py",
   "mimetype": "text/x-python",
   "name": "python",
   "nbconvert_exporter": "python",
   "pygments_lexer": "ipython3",
   "version": "3.8.7"
  }
 },
 "nbformat": 4,
 "nbformat_minor": 5
}
